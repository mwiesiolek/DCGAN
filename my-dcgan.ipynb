{
  "nbformat": 4,
  "nbformat_minor": 0,
  "metadata": {
    "colab": {
      "name": "my-nn.ipynb",
      "version": "0.3.2",
      "provenance": [],
      "collapsed_sections": [],
      "include_colab_link": true
    },
    "kernelspec": {
      "name": "python3",
      "display_name": "Python 3"
    },
    "accelerator": "GPU"
  },
  "cells": [
    {
      "cell_type": "markdown",
      "metadata": {
        "id": "view-in-github",
        "colab_type": "text"
      },
      "source": [
        "<a href=\"https://colab.research.google.com/github/mwiesiolek/machine-learning-classifiers/blob/master/my-dcgan.ipynb\" target=\"_parent\"><img src=\"https://colab.research.google.com/assets/colab-badge.svg\" alt=\"Open In Colab\"/></a>"
      ]
    },
    {
      "metadata": {
        "id": "LdN83lthTXqw",
        "colab_type": "code",
        "outputId": "9f3da4d9-d489-4a9d-bbbf-f7e6c5e19498",
        "colab": {
          "base_uri": "https://localhost:8080/",
          "height": 34
        }
      },
      "cell_type": "code",
      "source": [
        "%pylab inline \n",
        "\n",
        "import tensorflow as tf\n",
        "from tensorflow import keras\n",
        "\n",
        "tf.enable_eager_execution()\n",
        "tf.executing_eagerly() \n",
        "\n",
        "import numpy as np\n",
        "import matplotlib.pyplot as plt\n",
        "import tensorflow.contrib.eager as tfe\n",
        "from IPython import display"
      ],
      "execution_count": 0,
      "outputs": [
        {
          "output_type": "stream",
          "text": [
            "Populating the interactive namespace from numpy and matplotlib\n"
          ],
          "name": "stdout"
        }
      ]
    },
    {
      "metadata": {
        "id": "amKbiOf5PjnF",
        "colab_type": "code",
        "colab": {}
      },
      "cell_type": "code",
      "source": [
        "def g_model(width = 28, height = 28, noise_dim = 100, batch_size = 256):  \n",
        "  \n",
        "  model = keras.Sequential([\n",
        "    tf.layers.Dense(7*7*256, activation=tf.nn.leaky_relu, use_bias = False, input_shape=(noise_dim,)),\n",
        "    tf.layers.BatchNormalization(),\n",
        "    tf.keras.layers.LeakyReLU(),\n",
        "\n",
        "    tf.keras.layers.Reshape((7, 7, 256)),\n",
        "\n",
        "    tf.keras.layers.Conv2DTranspose(128, (5, 5), strides=(1, 1), padding='same', use_bias=False),\n",
        "    tf.layers.BatchNormalization(),\n",
        "    tf.keras.layers.LeakyReLU(),\n",
        "\n",
        "    tf.keras.layers.Conv2DTranspose(64, (5, 5), strides=(2, 2), padding='same', use_bias=False),\n",
        "    tf.layers.BatchNormalization(),\n",
        "    tf.keras.layers.LeakyReLU(),\n",
        "    \n",
        "    tf.keras.layers.Conv2DTranspose(1, (5, 5), strides=(2, 2), padding='same', use_bias=False, activation = 'tanh'),\n",
        "  ])\n",
        "  \n",
        "  return model"
      ],
      "execution_count": 0,
      "outputs": []
    },
    {
      "metadata": {
        "colab_type": "code",
        "id": "SidVuJSN8QNH",
        "colab": {}
      },
      "cell_type": "code",
      "source": [
        "def d_model(width = 28, height = 28):   \n",
        "  \n",
        "  model = keras.Sequential([\n",
        "    tf.keras.layers.Conv2D(64, (5, 5), strides=(2, 2), padding='same', input_shape = (width, height, 1)),\n",
        "    tf.keras.layers.LeakyReLU(),\n",
        "    tf.layers.Dropout(0.3),\n",
        "    \n",
        "    tf.keras.layers.Conv2D(128, (5, 5), strides=(2, 2), padding='same'),\n",
        "    tf.keras.layers.LeakyReLU(),\n",
        "    tf.layers.Dropout(0.3),\n",
        "    \n",
        "    tf.keras.layers.Flatten(),\n",
        "    tf.layers.Dense(1)\n",
        "  ])\n",
        "\n",
        "  return model"
      ],
      "execution_count": 0,
      "outputs": []
    },
    {
      "metadata": {
        "id": "V93xvjE5niuX",
        "colab_type": "code",
        "colab": {}
      },
      "cell_type": "code",
      "source": [
        "def g_loss(generated_output):\n",
        "  shape = tf.shape(generated_output)\n",
        "  return tf.losses.sigmoid_cross_entropy(tf.ones([shape[0], shape[1]]), generated_output)"
      ],
      "execution_count": 0,
      "outputs": []
    },
    {
      "metadata": {
        "id": "HdX_YdGgoSWM",
        "colab_type": "code",
        "colab": {}
      },
      "cell_type": "code",
      "source": [
        "def d_loss(real_output, generated_output):\n",
        "  real_shape = tf.shape(real_output)\n",
        "  real_loss = tf.losses.sigmoid_cross_entropy(multi_class_labels = tf.ones([real_shape[0], real_shape[1]]), logits = real_output)\n",
        "  \n",
        "  generated_shape = tf.shape(generated_output)\n",
        "  generated_loss = tf.losses.sigmoid_cross_entropy(multi_class_labels = tf.zeros([generated_shape[0], generated_shape[1]]), logits = generated_output)\n",
        "  \n",
        "  return real_loss + generated_loss"
      ],
      "execution_count": 0,
      "outputs": []
    },
    {
      "metadata": {
        "id": "F4zj1mAZo9nj",
        "colab_type": "code",
        "colab": {}
      },
      "cell_type": "code",
      "source": [
        "g_optimizer = tf.train.AdamOptimizer(1e-3)\n",
        "d_optimizer = tf.train.AdamOptimizer(1e-3)"
      ],
      "execution_count": 0,
      "outputs": []
    },
    {
      "metadata": {
        "colab_type": "code",
        "id": "8ojrYSlzycSr",
        "colab": {}
      },
      "cell_type": "code",
      "source": [
        "def normalize_with_moments(x, axes=[0, 1], epsilon=1e-8):\n",
        "    mean, variance = tf.nn.moments(x, axes=axes)\n",
        "    x_normed = (x - 127.5) / 127.5\n",
        "    return x_normed"
      ],
      "execution_count": 0,
      "outputs": []
    },
    {
      "metadata": {
        "id": "LPUDDypTIbLg",
        "colab_type": "code",
        "colab": {}
      },
      "cell_type": "code",
      "source": [
        "def load_real_data(batch_size = 100, shuffle_buffer_size = 1000, width = 28, height = 28):\n",
        "  (x_train, y_train), (x_test, y_test) = tf.keras.datasets.mnist.load_data()\n",
        "  \n",
        "  x_train = x_train.reshape(x_train.shape[0], width, height, 1).astype('float')\n",
        "  x_test = x_test.reshape(x_test.shape[0], width, height, 1).astype('float32')\n",
        "  \n",
        "  x_train = tf.constant(x_train, dtype=float32)\n",
        "  x_test = tf.constant(x_test, dtype=float32)\n",
        "  \n",
        "  x_train = normalize_with_moments(x = x_train)\n",
        "  x_test = normalize_with_moments(x = x_test)\n",
        "  \n",
        "  y_train = tf.constant(y_train, dtype=float32)\n",
        "  y_test = tf.constant(y_test, dtype=float32)\n",
        "  \n",
        "  train_ds = tf.data.Dataset.from_tensor_slices((x_train, y_train)).shuffle(shuffle_buffer_size).batch(batch_size)\n",
        "  test_ds = tf.data.Dataset.from_tensor_slices((x_test, y_test)).shuffle(shuffle_buffer_size).batch(batch_size)\n",
        "  \n",
        "  return train_ds, test_ds"
      ],
      "execution_count": 0,
      "outputs": []
    },
    {
      "metadata": {
        "id": "xSl2XIf6Sgi9",
        "colab_type": "code",
        "colab": {}
      },
      "cell_type": "code",
      "source": [
        "def generate_and_render_images(model, input, width, height):\n",
        "  predictions = model(input, training = False)\n",
        "  \n",
        "  display.clear_output(wait=True)\n",
        "  \n",
        "  # (16, 784)\n",
        "  for i in range(predictions.shape[0]):\n",
        "    plt.subplot(4, 4, i + 1)\n",
        "    plt.imshow(tf.reshape(predictions[i], [width, height]), cmap = 'gray')\n",
        "    plt.axis('off')\n",
        "    \n",
        "  plt.show()"
      ],
      "execution_count": 0,
      "outputs": []
    },
    {
      "metadata": {
        "id": "kke-WifffBhY",
        "colab_type": "code",
        "colab": {}
      },
      "cell_type": "code",
      "source": [
        "def train_step(batch_size, noise_dim, data, disc_model, gen_model):\n",
        "    noise = tf.random_normal([batch_size, noise_dim])\n",
        "\n",
        "    with tf.GradientTape() as gen_tape, tf.GradientTape() as disc_tape:\n",
        "      generated_images = gen_model(noise, training = True)\n",
        "\n",
        "      real_output = disc_model(data, training = True)\n",
        "      generated_output = disc_model(generated_images, training = True)\n",
        "\n",
        "      gen_loss = g_loss(generated_output)\n",
        "      disc_loss = d_loss(real_output, generated_output)\n",
        "    \n",
        "    g_gradients = gen_tape.gradient(gen_loss, gen_model.variables)\n",
        "    d_gradients = disc_tape.gradient(disc_loss, disc_model.variables)\n",
        "    \n",
        "    g_optimizer.apply_gradients(zip(g_gradients, gen_model.variables))\n",
        "    d_optimizer.apply_gradients(zip(d_gradients, disc_model.variables))"
      ],
      "execution_count": 0,
      "outputs": []
    },
    {
      "metadata": {
        "id": "esT9ux3IjW0P",
        "colab_type": "code",
        "colab": {}
      },
      "cell_type": "code",
      "source": [
        "train_step = tf.contrib.eager.defun(train_step)"
      ],
      "execution_count": 0,
      "outputs": []
    },
    {
      "metadata": {
        "id": "SS9aLTiL8R9w",
        "colab_type": "code",
        "outputId": "27e712e9-3ab8-41ef-b0b8-89424cff1984",
        "colab": {
          "base_uri": "https://localhost:8080/",
          "height": 319
        }
      },
      "cell_type": "code",
      "source": [
        "%%time\n",
        "\n",
        "noise_dim = 100\n",
        "batch_size = 1000\n",
        "number_of_samples = 60000\n",
        "steps = number_of_samples / batch_size\n",
        "steps = tf.constant(steps, dtype=int32)\n",
        "num_epochs = 50\n",
        "\n",
        "width = 28\n",
        "height = 28\n",
        "\n",
        "# 60 000 * [28, 28]\n",
        "train_ds, test_ds = load_real_data(batch_size = batch_size, shuffle_buffer_size = number_of_samples)\n",
        "\n",
        "disc_model = d_model(width, height)\n",
        "gen_model = g_model(width, height, noise_dim, batch_size)\n",
        "\n",
        "random_vector_for_generation = tf.random_normal([16, noise_dim])\n",
        "\n",
        "for epoch in range(num_epochs):\n",
        "  start = time.time()\n",
        "\n",
        "  for real_data in train_ds:\n",
        "    train_step(batch_size, noise_dim, real_data[0], disc_model, gen_model)\n",
        "    \n",
        "  generate_and_render_images(gen_model, random_vector_for_generation, width, height)\n",
        "  print ('Time taken for epoch {} is {} sec'.format(epoch + 1, time.time()-start))"
      ],
      "execution_count": 0,
      "outputs": [
        {
          "output_type": "display_data",
          "data": {
            "image/png": "[encoded data removed]",
            "text/plain": [
              "<matplotlib.figure.Figure at 0x7f0fa9c3eb00>"
            ]
          },
          "metadata": {
            "tags": []
          }
        },
        {
          "output_type": "stream",
          "text": [
            "Time taken for epoch 50 is 24.288371562957764 sec\n",
            "CPU times: user 4min 34s, sys: 1min 34s, total: 6min 9s\n",
            "Wall time: 20min 24s\n"
          ],
          "name": "stdout"
        }
      ]
    }
  ]
}